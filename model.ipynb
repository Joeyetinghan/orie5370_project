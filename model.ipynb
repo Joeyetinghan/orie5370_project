{
 "cells": [
  {
   "cell_type": "code",
   "execution_count": 3,
   "id": "1dfc3b62",
   "metadata": {
    "scrolled": true
   },
   "outputs": [],
   "source": [
    "import pandas as pd\n",
    "import numpy as np\n",
    "import cvxpy as cp"
   ]
  },
  {
   "cell_type": "markdown",
   "id": "ec3281ca",
   "metadata": {},
   "source": [
    "## Optimization Model"
   ]
  },
  {
   "cell_type": "code",
   "execution_count": 11,
   "id": "e3291b99",
   "metadata": {},
   "outputs": [],
   "source": [
    "def NPM(r, his_r, x_tilde, theta, c):\n",
    "    '''\n",
    "    param r [ndarray]: vector of price at period t\n",
    "    param his_r [ndarray]: 2d vector of prices for the past W periods\n",
    "    param x_tilde [ndarray]: investment weights at the end of period t-1\n",
    "    param theta [int]: acceptable risk level\n",
    "    param c [float]: transacion cost \\in (0, 1)\n",
    "\n",
    "    '''\n",
    "    M = len(r) # Number of assets in the portfolio\n",
    "    W = len(his_r) # Number of recents prices used to measure risk\n",
    "    \n",
    "    # Define variables\n",
    "    u = cp.Variable(M)\n",
    "    v = cp.Variable(M)\n",
    "    d = cp.Variable(W)\n",
    "    g = cp.Variable(W)\n",
    "    \n",
    "    # Define Objective\n",
    "    objective = cp.Maximize(r @ x_tilde + (x_tilde - c/2) @ u) - (x_tilde + c/2) @ v)\n",
    "    \n",
    "    # Define constraints\n",
    "    constraints = [cp.sum(d + g) <= W * theta,\n",
    "                    cp.sum(u - v) == 0,\n",
    "                    u - v + x_tilde >= 0,\n",
    "                    u - v + x_tilde <= 1,\n",
    "                    u >= 0, v >= 0, d >= 0, g >= 0]\n",
    "    for j in range(M):\n",
    "        constraints += [(his_r[j] - r) @ u + (his_r[j] - r) @ v - d[j] <= (r - his_r[j]) @ x_tilde,\n",
    "                        (r - his_r[j]) @ u + (r - his_r[j]) @ v - d[j] <= (his_r[j] - r) @ x_tilde]\n",
    "        \n",
    "    # Solve the optimization problem\n",
    "    problem = cp.Problem(objective, constraints)\n",
    "    problem.solve()\n",
    "    \n",
    "    return problem, u.value, v.value, d.value, g.value"
   ]
  },
  {
   "cell_type": "code",
   "execution_count": null,
   "id": "f70315f8",
   "metadata": {},
   "outputs": [],
   "source": []
  }
 ],
 "metadata": {
  "kernelspec": {
   "display_name": "Python 3 (ipykernel)",
   "language": "python",
   "name": "python3"
  },
  "language_info": {
   "codemirror_mode": {
    "name": "ipython",
    "version": 3
   },
   "file_extension": ".py",
   "mimetype": "text/x-python",
   "name": "python",
   "nbconvert_exporter": "python",
   "pygments_lexer": "ipython3",
   "version": "3.9.13"
  }
 },
 "nbformat": 4,
 "nbformat_minor": 5
}
